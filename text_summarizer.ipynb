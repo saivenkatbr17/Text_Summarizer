{
 "cells": [
  {
   "cell_type": "code",
   "execution_count": 2,
   "metadata": {
    "colab": {
     "base_uri": "https://localhost:8080/"
    },
    "executionInfo": {
     "elapsed": 12721,
     "status": "ok",
     "timestamp": 1694852065388,
     "user": {
      "displayName": "SAI VENKAT B R (RA2111027010058)",
      "userId": "06102157427282578718"
     },
     "user_tz": -330
    },
    "id": "RzkUNuJqKOmg",
    "outputId": "e295ce79-f83c-4568-e106-bde164b0b83d"
   },
   "outputs": [
    {
     "name": "stderr",
     "output_type": "stream",
     "text": [
      "[nltk_data] Downloading package wordnet to\n",
      "[nltk_data]     C:\\Users\\sai20\\AppData\\Roaming\\nltk_data...\n",
      "[nltk_data]   Package wordnet is already up-to-date!\n",
      "[nltk_data] Downloading package stopwords to\n",
      "[nltk_data]     C:\\Users\\sai20\\AppData\\Roaming\\nltk_data...\n",
      "[nltk_data]   Package stopwords is already up-to-date!\n",
      "[nltk_data] Downloading package punkt to\n",
      "[nltk_data]     C:\\Users\\sai20\\AppData\\Roaming\\nltk_data...\n",
      "[nltk_data]   Package punkt is already up-to-date!\n"
     ]
    }
   ],
   "source": [
    "import numpy as np\n",
    "import pandas as pd\n",
    "import pickle\n",
    "from statistics import mode\n",
    "import nltk\n",
    "from nltk import word_tokenize\n",
    "from nltk.stem import LancasterStemmer\n",
    "nltk.download('wordnet')\n",
    "nltk.download('stopwords')\n",
    "nltk.download('punkt')\n",
    "from nltk.corpus import stopwords\n",
    "from tensorflow.keras.models import Model\n",
    "from tensorflow.keras import models\n",
    "from tensorflow.keras import backend as K\n",
    "from tensorflow.keras.preprocessing.sequence import pad_sequences\n",
    "from tensorflow.keras.preprocessing.text import Tokenizer\n",
    "from tensorflow.keras.utils import plot_model\n",
    "from tensorflow.keras.layers import Input,LSTM,Embedding,Dense,Concatenate,Attention\n",
    "from sklearn.model_selection import train_test_split\n",
    "from bs4 import BeautifulSoup"
   ]
  },
  {
   "cell_type": "markdown",
   "metadata": {
    "id": "B_kSD14JKkUt"
   },
   "source": [
    "# ***Importing the data set***"
   ]
  },
  {
   "cell_type": "code",
   "execution_count": 3,
   "metadata": {
    "colab": {
     "base_uri": "https://localhost:8080/"
    },
    "executionInfo": {
     "elapsed": 719,
     "status": "ok",
     "timestamp": 1694852066101,
     "user": {
      "displayName": "SAI VENKAT B R (RA2111027010058)",
      "userId": "06102157427282578718"
     },
     "user_tz": -330
    },
    "id": "nmOmjXTFKjWC",
    "outputId": "9746673d-cb9a-4970-ebdc-1cadc658b14a"
   },
   "outputs": [
    {
     "ename": "FileNotFoundError",
     "evalue": "[Errno 2] No such file or directory: 'Reviews.csv'",
     "output_type": "error",
     "traceback": [
      "\u001b[1;31m---------------------------------------------------------------------------\u001b[0m",
      "\u001b[1;31mFileNotFoundError\u001b[0m                         Traceback (most recent call last)",
      "\u001b[1;32m~\\AppData\\Local\\Temp\\ipykernel_14988\\3225281760.py\u001b[0m in \u001b[0;36m<module>\u001b[1;34m\u001b[0m\n\u001b[1;32m----> 1\u001b[1;33m \u001b[0mdf\u001b[0m \u001b[1;33m=\u001b[0m \u001b[0mpd\u001b[0m\u001b[1;33m.\u001b[0m\u001b[0mread_csv\u001b[0m\u001b[1;33m(\u001b[0m\u001b[1;34m\"Reviews.csv\"\u001b[0m\u001b[1;33m,\u001b[0m\u001b[0mnrows\u001b[0m\u001b[1;33m=\u001b[0m\u001b[1;36m100000\u001b[0m\u001b[1;33m)\u001b[0m\u001b[1;33m\u001b[0m\u001b[1;33m\u001b[0m\u001b[0m\n\u001b[0m\u001b[0;32m      2\u001b[0m \u001b[0mprint\u001b[0m\u001b[1;33m(\u001b[0m\u001b[0mdf\u001b[0m\u001b[1;33m.\u001b[0m\u001b[0mhead\u001b[0m\u001b[1;33m(\u001b[0m\u001b[1;33m)\u001b[0m\u001b[1;33m)\u001b[0m\u001b[1;33m\u001b[0m\u001b[1;33m\u001b[0m\u001b[0m\n",
      "\u001b[1;32m~\\anaconda3\\lib\\site-packages\\pandas\\util\\_decorators.py\u001b[0m in \u001b[0;36mwrapper\u001b[1;34m(*args, **kwargs)\u001b[0m\n\u001b[0;32m    309\u001b[0m                     \u001b[0mstacklevel\u001b[0m\u001b[1;33m=\u001b[0m\u001b[0mstacklevel\u001b[0m\u001b[1;33m,\u001b[0m\u001b[1;33m\u001b[0m\u001b[1;33m\u001b[0m\u001b[0m\n\u001b[0;32m    310\u001b[0m                 )\n\u001b[1;32m--> 311\u001b[1;33m             \u001b[1;32mreturn\u001b[0m \u001b[0mfunc\u001b[0m\u001b[1;33m(\u001b[0m\u001b[1;33m*\u001b[0m\u001b[0margs\u001b[0m\u001b[1;33m,\u001b[0m \u001b[1;33m**\u001b[0m\u001b[0mkwargs\u001b[0m\u001b[1;33m)\u001b[0m\u001b[1;33m\u001b[0m\u001b[1;33m\u001b[0m\u001b[0m\n\u001b[0m\u001b[0;32m    312\u001b[0m \u001b[1;33m\u001b[0m\u001b[0m\n\u001b[0;32m    313\u001b[0m         \u001b[1;32mreturn\u001b[0m \u001b[0mwrapper\u001b[0m\u001b[1;33m\u001b[0m\u001b[1;33m\u001b[0m\u001b[0m\n",
      "\u001b[1;32m~\\anaconda3\\lib\\site-packages\\pandas\\io\\parsers\\readers.py\u001b[0m in \u001b[0;36mread_csv\u001b[1;34m(filepath_or_buffer, sep, delimiter, header, names, index_col, usecols, squeeze, prefix, mangle_dupe_cols, dtype, engine, converters, true_values, false_values, skipinitialspace, skiprows, skipfooter, nrows, na_values, keep_default_na, na_filter, verbose, skip_blank_lines, parse_dates, infer_datetime_format, keep_date_col, date_parser, dayfirst, cache_dates, iterator, chunksize, compression, thousands, decimal, lineterminator, quotechar, quoting, doublequote, escapechar, comment, encoding, encoding_errors, dialect, error_bad_lines, warn_bad_lines, on_bad_lines, delim_whitespace, low_memory, memory_map, float_precision, storage_options)\u001b[0m\n\u001b[0;32m    676\u001b[0m     \u001b[0mkwds\u001b[0m\u001b[1;33m.\u001b[0m\u001b[0mupdate\u001b[0m\u001b[1;33m(\u001b[0m\u001b[0mkwds_defaults\u001b[0m\u001b[1;33m)\u001b[0m\u001b[1;33m\u001b[0m\u001b[1;33m\u001b[0m\u001b[0m\n\u001b[0;32m    677\u001b[0m \u001b[1;33m\u001b[0m\u001b[0m\n\u001b[1;32m--> 678\u001b[1;33m     \u001b[1;32mreturn\u001b[0m \u001b[0m_read\u001b[0m\u001b[1;33m(\u001b[0m\u001b[0mfilepath_or_buffer\u001b[0m\u001b[1;33m,\u001b[0m \u001b[0mkwds\u001b[0m\u001b[1;33m)\u001b[0m\u001b[1;33m\u001b[0m\u001b[1;33m\u001b[0m\u001b[0m\n\u001b[0m\u001b[0;32m    679\u001b[0m \u001b[1;33m\u001b[0m\u001b[0m\n\u001b[0;32m    680\u001b[0m \u001b[1;33m\u001b[0m\u001b[0m\n",
      "\u001b[1;32m~\\anaconda3\\lib\\site-packages\\pandas\\io\\parsers\\readers.py\u001b[0m in \u001b[0;36m_read\u001b[1;34m(filepath_or_buffer, kwds)\u001b[0m\n\u001b[0;32m    573\u001b[0m \u001b[1;33m\u001b[0m\u001b[0m\n\u001b[0;32m    574\u001b[0m     \u001b[1;31m# Create the parser.\u001b[0m\u001b[1;33m\u001b[0m\u001b[1;33m\u001b[0m\u001b[0m\n\u001b[1;32m--> 575\u001b[1;33m     \u001b[0mparser\u001b[0m \u001b[1;33m=\u001b[0m \u001b[0mTextFileReader\u001b[0m\u001b[1;33m(\u001b[0m\u001b[0mfilepath_or_buffer\u001b[0m\u001b[1;33m,\u001b[0m \u001b[1;33m**\u001b[0m\u001b[0mkwds\u001b[0m\u001b[1;33m)\u001b[0m\u001b[1;33m\u001b[0m\u001b[1;33m\u001b[0m\u001b[0m\n\u001b[0m\u001b[0;32m    576\u001b[0m \u001b[1;33m\u001b[0m\u001b[0m\n\u001b[0;32m    577\u001b[0m     \u001b[1;32mif\u001b[0m \u001b[0mchunksize\u001b[0m \u001b[1;32mor\u001b[0m \u001b[0miterator\u001b[0m\u001b[1;33m:\u001b[0m\u001b[1;33m\u001b[0m\u001b[1;33m\u001b[0m\u001b[0m\n",
      "\u001b[1;32m~\\anaconda3\\lib\\site-packages\\pandas\\io\\parsers\\readers.py\u001b[0m in \u001b[0;36m__init__\u001b[1;34m(self, f, engine, **kwds)\u001b[0m\n\u001b[0;32m    930\u001b[0m \u001b[1;33m\u001b[0m\u001b[0m\n\u001b[0;32m    931\u001b[0m         \u001b[0mself\u001b[0m\u001b[1;33m.\u001b[0m\u001b[0mhandles\u001b[0m\u001b[1;33m:\u001b[0m \u001b[0mIOHandles\u001b[0m \u001b[1;33m|\u001b[0m \u001b[1;32mNone\u001b[0m \u001b[1;33m=\u001b[0m \u001b[1;32mNone\u001b[0m\u001b[1;33m\u001b[0m\u001b[1;33m\u001b[0m\u001b[0m\n\u001b[1;32m--> 932\u001b[1;33m         \u001b[0mself\u001b[0m\u001b[1;33m.\u001b[0m\u001b[0m_engine\u001b[0m \u001b[1;33m=\u001b[0m \u001b[0mself\u001b[0m\u001b[1;33m.\u001b[0m\u001b[0m_make_engine\u001b[0m\u001b[1;33m(\u001b[0m\u001b[0mf\u001b[0m\u001b[1;33m,\u001b[0m \u001b[0mself\u001b[0m\u001b[1;33m.\u001b[0m\u001b[0mengine\u001b[0m\u001b[1;33m)\u001b[0m\u001b[1;33m\u001b[0m\u001b[1;33m\u001b[0m\u001b[0m\n\u001b[0m\u001b[0;32m    933\u001b[0m \u001b[1;33m\u001b[0m\u001b[0m\n\u001b[0;32m    934\u001b[0m     \u001b[1;32mdef\u001b[0m \u001b[0mclose\u001b[0m\u001b[1;33m(\u001b[0m\u001b[0mself\u001b[0m\u001b[1;33m)\u001b[0m\u001b[1;33m:\u001b[0m\u001b[1;33m\u001b[0m\u001b[1;33m\u001b[0m\u001b[0m\n",
      "\u001b[1;32m~\\anaconda3\\lib\\site-packages\\pandas\\io\\parsers\\readers.py\u001b[0m in \u001b[0;36m_make_engine\u001b[1;34m(self, f, engine)\u001b[0m\n\u001b[0;32m   1214\u001b[0m             \u001b[1;31m# \"Union[str, PathLike[str], ReadCsvBuffer[bytes], ReadCsvBuffer[str]]\"\u001b[0m\u001b[1;33m\u001b[0m\u001b[1;33m\u001b[0m\u001b[0m\n\u001b[0;32m   1215\u001b[0m             \u001b[1;31m# , \"str\", \"bool\", \"Any\", \"Any\", \"Any\", \"Any\", \"Any\"\u001b[0m\u001b[1;33m\u001b[0m\u001b[1;33m\u001b[0m\u001b[0m\n\u001b[1;32m-> 1216\u001b[1;33m             self.handles = get_handle(  # type: ignore[call-overload]\n\u001b[0m\u001b[0;32m   1217\u001b[0m                 \u001b[0mf\u001b[0m\u001b[1;33m,\u001b[0m\u001b[1;33m\u001b[0m\u001b[1;33m\u001b[0m\u001b[0m\n\u001b[0;32m   1218\u001b[0m                 \u001b[0mmode\u001b[0m\u001b[1;33m,\u001b[0m\u001b[1;33m\u001b[0m\u001b[1;33m\u001b[0m\u001b[0m\n",
      "\u001b[1;32m~\\anaconda3\\lib\\site-packages\\pandas\\io\\common.py\u001b[0m in \u001b[0;36mget_handle\u001b[1;34m(path_or_buf, mode, encoding, compression, memory_map, is_text, errors, storage_options)\u001b[0m\n\u001b[0;32m    784\u001b[0m         \u001b[1;32mif\u001b[0m \u001b[0mioargs\u001b[0m\u001b[1;33m.\u001b[0m\u001b[0mencoding\u001b[0m \u001b[1;32mand\u001b[0m \u001b[1;34m\"b\"\u001b[0m \u001b[1;32mnot\u001b[0m \u001b[1;32min\u001b[0m \u001b[0mioargs\u001b[0m\u001b[1;33m.\u001b[0m\u001b[0mmode\u001b[0m\u001b[1;33m:\u001b[0m\u001b[1;33m\u001b[0m\u001b[1;33m\u001b[0m\u001b[0m\n\u001b[0;32m    785\u001b[0m             \u001b[1;31m# Encoding\u001b[0m\u001b[1;33m\u001b[0m\u001b[1;33m\u001b[0m\u001b[0m\n\u001b[1;32m--> 786\u001b[1;33m             handle = open(\n\u001b[0m\u001b[0;32m    787\u001b[0m                 \u001b[0mhandle\u001b[0m\u001b[1;33m,\u001b[0m\u001b[1;33m\u001b[0m\u001b[1;33m\u001b[0m\u001b[0m\n\u001b[0;32m    788\u001b[0m                 \u001b[0mioargs\u001b[0m\u001b[1;33m.\u001b[0m\u001b[0mmode\u001b[0m\u001b[1;33m,\u001b[0m\u001b[1;33m\u001b[0m\u001b[1;33m\u001b[0m\u001b[0m\n",
      "\u001b[1;31mFileNotFoundError\u001b[0m: [Errno 2] No such file or directory: 'Reviews.csv'"
     ]
    }
   ],
   "source": [
    "df = pd.read_csv(\"Reviews.csv\",nrows=100000)\n",
    "print(df.head())"
   ]
  },
  {
   "cell_type": "markdown",
   "metadata": {
    "id": "bnx-EHPxQzqa"
   },
   "source": [
    "# ***Dropping null and duplicate values***"
   ]
  },
  {
   "cell_type": "markdown",
   "metadata": {
    "id": "5bANdYGKfu3v"
   },
   "source": []
  },
  {
   "cell_type": "code",
   "execution_count": 3,
   "metadata": {
    "colab": {
     "base_uri": "https://localhost:8080/"
    },
    "executionInfo": {
     "elapsed": 428,
     "status": "ok",
     "timestamp": 1694852066525,
     "user": {
      "displayName": "SAI VENKAT B R (RA2111027010058)",
      "userId": "06102157427282578718"
     },
     "user_tz": -330
    },
    "id": "4OOkH0LXLNUF",
    "outputId": "3fdfb85b-3934-475e-9c16-d2b979fec1f9"
   },
   "outputs": [
    {
     "name": "stdout",
     "output_type": "stream",
     "text": [
      "Number of duplicates are :  0.0 \n",
      "Number of null values : 0.0\n"
     ]
    }
   ],
   "source": [
    "df.drop_duplicates(subset=['Text'],keep='first')\n",
    "df.dropna()\n",
    "duplicates = df[df.duplicated()].sum().sum()\n",
    "nulls = df[df.isnull()].sum().sum()\n",
    "print(\"Number of duplicates are : \",duplicates,\"\\nNumber of null values :\",nulls)"
   ]
  },
  {
   "cell_type": "code",
   "execution_count": 4,
   "metadata": {
    "executionInfo": {
     "elapsed": 8,
     "status": "ok",
     "timestamp": 1694852066526,
     "user": {
      "displayName": "SAI VENKAT B R (RA2111027010058)",
      "userId": "06102157427282578718"
     },
     "user_tz": -330
    },
    "id": "P3hXPZAUQ6vm"
   },
   "outputs": [],
   "source": [
    "input_data = df.loc[:,'Text']\n",
    "target_data = df.loc[:,'Summary']\n",
    "target_data.replace('', np.nan, inplace=True)"
   ]
  },
  {
   "cell_type": "markdown",
   "metadata": {
    "id": "vQFFVBbTSCq7"
   },
   "source": [
    "# ***Preprocessing of data***\n",
    "\n",
    ">Real-world texts are incomplete and they cannot be sent directly to the model that will cause certain errors. So, we clean all our texts and convert them into a presentable form for prediction tasks.\n"
   ]
  },
  {
   "cell_type": "code",
   "execution_count": 5,
   "metadata": {
    "executionInfo": {
     "elapsed": 8,
     "status": "ok",
     "timestamp": 1694852066527,
     "user": {
      "displayName": "SAI VENKAT B R (RA2111027010058)",
      "userId": "06102157427282578718"
     },
     "user_tz": -330
    },
    "id": "lK8P0BiLSBnY"
   },
   "outputs": [],
   "source": [
    "input_texts=[]\n",
    "target_texts=[]\n",
    "input_words=[]\n",
    "target_words=[]\n",
    "contractions=pickle.load(open(\"contractions.pkl\",\"rb\"))['contractions']\n",
    "#initialize stop words and LancasterStemmer\n",
    "stop_words=set(stopwords.words('english'))\n",
    "stemm=LancasterStemmer()"
   ]
  },
  {
   "cell_type": "markdown",
   "metadata": {
    "id": "6izdjEwbdE8k"
   },
   "source": [
    "Some of our texts are in html format and contain html tags so first we will parse this text and remove all the html tags using ‘BeautifulSoup library’. After that, we tokenize our texts into words. And also check the following conditions:\n",
    "1.   Contains integer\n",
    "2.   are less than 3 words\n",
    "3.   they are in stop words\n",
    "If one of the above conditions matches, we will remove that particular word from the list of input or target words"
   ]
  },
  {
   "cell_type": "markdown",
   "metadata": {
    "id": "oT93L-1wfzcO"
   },
   "source": [
    "We also have Contraction words in our input or target texts that are the combinations of two words.We will expand these kinds of words using the ‘contractions.pkl’ file which contains a dictionary having keys as shortened words and values as expanded words. Also we will stem all the input words to their root words.\n",
    "\n",
    "\n",
    ">Stemming is the process of reducing words into their root words.\n",
    "\n",
    "For example, if the text contains word like “chocollate” which might be misspelled for “chocolate”. If we don’t stem our words then the model will treat them as two different words. Stemmer will stem or reduce that error word to its root word i.e. “chocol”. As a result, “chocol” is the root word for both “chocolate” and “chocollate”.\n",
    "\n",
    "\n"
   ]
  },
  {
   "cell_type": "code",
   "execution_count": 1,
   "metadata": {
    "executionInfo": {
     "elapsed": 9,
     "status": "ok",
     "timestamp": 1694852066528,
     "user": {
      "displayName": "SAI VENKAT B R (RA2111027010058)",
      "userId": "06102157427282578718"
     },
     "user_tz": -330
    },
    "id": "PtAM4YF9d1TD"
   },
   "outputs": [],
   "source": [
    "def clean(texts,src):\n",
    "  #removing the html tags\n",
    "  texts = BeautifulSoup(texts,\"lxml\").text\n",
    "  #tokenise the text into words\n",
    "  words = word_tokenize(texts.lower())\n",
    "  #filtering the words whichcontain '\\'\n",
    "  #filtering the integers or their length is less than or equal to 3\n",
    "  words= list(filter(lambda w:(w.isalpha() and len(w)>=3),words))\n",
    "  #contractions file to list out shortened words\n",
    "  words = [contractions[w] if w in contractions else w for w in words]\n",
    "  #stemming the words to their root words and filtering stop_words\n",
    "  if src==\"inputs\":\n",
    "    words=[stemm.stem(w) for w in words if w not in stop_words]\n",
    "  else:\n",
    "    words=[w for w in words if w not in stop_words]\n",
    "  return words"
   ]
  },
  {
   "cell_type": "markdown",
   "metadata": {
    "id": "wvxhvuPUh56y"
   },
   "source": [
    "We will add **‘sos’** to the start and **‘eos’** at the end of target text to tell our model that this is the starting and ending of sentences"
   ]
  },
  {
   "cell_type": "code",
   "execution_count": 7,
   "metadata": {
    "colab": {
     "base_uri": "https://localhost:8080/"
    },
    "executionInfo": {
     "elapsed": 235087,
     "status": "ok",
     "timestamp": 1694852301608,
     "user": {
      "displayName": "SAI VENKAT B R (RA2111027010058)",
      "userId": "06102157427282578718"
     },
     "user_tz": -330
    },
    "id": "uU1jmNokiAPT",
    "outputId": "2587bdbd-18c9-4c19-cc3c-8f08b9961192"
   },
   "outputs": [
    {
     "name": "stderr",
     "output_type": "stream",
     "text": [
      "<ipython-input-6-16fead7812ca>:3: MarkupResemblesLocatorWarning: The input looks more like a filename than markup. You may want to open this file and pass the filehandle into Beautiful Soup.\n",
      "  texts = BeautifulSoup(texts,\"lxml\").text\n"
     ]
    }
   ],
   "source": [
    "#pass input records and targget records\n",
    "for in_txt,tr_txt in zip(input_data,target_data):\n",
    "  in_words = clean(in_txt,\"inputs\")\n",
    "  input_texts+= [' '.join(in_words)]\n",
    "  input_words+= in_words\n",
    "  #add \"sos\" and at the start and \"eos\" at the end of the text\n",
    "  tr_words= clean(\"sos \"+str(tr_txt)+\" eos\",\"target\")\n",
    "  target_texts+= [' '.join(tr_words)]\n",
    "  target_words+= tr_words"
   ]
  },
  {
   "cell_type": "markdown",
   "metadata": {
    "id": "lKNR7DhMjy26"
   },
   "source": [
    "Now after cleaning the sentences we will filter duplicate words and sort them accordingly. Also we will store the total number of input and target words."
   ]
  },
  {
   "cell_type": "code",
   "execution_count": 8,
   "metadata": {
    "colab": {
     "base_uri": "https://localhost:8080/"
    },
    "executionInfo": {
     "elapsed": 655,
     "status": "ok",
     "timestamp": 1694852302253,
     "user": {
      "displayName": "SAI VENKAT B R (RA2111027010058)",
      "userId": "06102157427282578718"
     },
     "user_tz": -330
    },
    "id": "7mNF2vPajyFB",
    "outputId": "079a9b2d-5206-41ef-914e-4f8f74674320"
   },
   "outputs": [
    {
     "name": "stdout",
     "output_type": "stream",
     "text": [
      "number of input words :  32198\n",
      "number of target words :  14193\n",
      "maximum input length :  74\n",
      "maximum target length :  17\n"
     ]
    }
   ],
   "source": [
    "#store only unique words from input and target list\n",
    "input_words = sorted(list(set(input_words)))\n",
    "target_words = sorted(list(set(target_words)))\n",
    "num_in_words = len(input_words) #num of input words\n",
    "num_tr_words = len(target_words) #num of target words\n",
    "\n",
    "#get the length of the input and target texts which appears most often\n",
    "max_in_len = mode([len(i) for i in input_texts])\n",
    "max_tr_len = mode([len(i) for i in target_texts])\n",
    "\n",
    "print(\"number of input words : \",num_in_words)\n",
    "print(\"number of target words : \",num_tr_words)\n",
    "print(\"maximum input length : \",max_in_len)\n",
    "print(\"maximum target length : \",max_tr_len)"
   ]
  },
  {
   "cell_type": "markdown",
   "metadata": {
    "id": "jLNZmdSYz_Ao"
   },
   "source": [
    "# *Splitting the records*"
   ]
  },
  {
   "cell_type": "code",
   "execution_count": 9,
   "metadata": {
    "executionInfo": {
     "elapsed": 10,
     "status": "ok",
     "timestamp": 1694852302255,
     "user": {
      "displayName": "SAI VENKAT B R (RA2111027010058)",
      "userId": "06102157427282578718"
     },
     "user_tz": -330
    },
    "id": "QxzGtscN0NR4"
   },
   "outputs": [],
   "source": [
    "# splitting the input and target data to 80:20 ratio for training and testing the machine\n",
    "x_train,x_test,y_train,y_test=train_test_split(input_texts,target_texts,test_size=0.2,random_state=0)"
   ]
  },
  {
   "cell_type": "markdown",
   "metadata": {
    "id": "e6NJbdVY-dtQ"
   },
   "source": [
    "# *Text Vectorization*"
   ]
  },
  {
   "cell_type": "markdown",
   "metadata": {
    "id": "4FXsrAYh-1c-"
   },
   "source": [
    "We will convert our word into integer sequence using vectorization technique.\n",
    "\n",
    "For example,\n",
    "\n",
    "L = [ ‘what doing’, ‘how are you’, ’good ’]\n",
    "\n",
    "Tokenize all the elements of list ‘L’ and make a dictionary having key as tokens and value as the counter number. So after the data is fit we get a dictionary as\n",
    "\n",
    "D = { ‘what’ : 1 , ‘doing’ :2 , ‘how’ : 3 , ‘are’ : 4 , ‘you’ :5 , ‘good’ : 6 }\n",
    "\n",
    "So we have fit our data, now let’s transform the below list ‘J’ into integer sequence using our tokenizer.\n",
    "\n",
    "J = [ ‘what are you doing’, ‘you are good’ ]\n",
    "\n",
    "Transformed (Vectorized) J : [ [ 1 , 4 , 5 , 2 ] , [ 5 , 4 , 6 ] ]"
   ]
  },
  {
   "cell_type": "code",
   "execution_count": 10,
   "metadata": {
    "executionInfo": {
     "elapsed": 241940,
     "status": "ok",
     "timestamp": 1694852544187,
     "user": {
      "displayName": "SAI VENKAT B R (RA2111027010058)",
      "userId": "06102157427282578718"
     },
     "user_tz": -330
    },
    "id": "ZRovOhSY-bSZ"
   },
   "outputs": [],
   "source": [
    "#training the tocenizer with all the words\n",
    "in_tok= Tokenizer()\n",
    "in_tok.fit_on_texts(str(x_train))\n",
    "tr_tok= Tokenizer()\n",
    "tr_tok.fit_on_texts(y_train)\n",
    "\n",
    "#converting the text into a sequence of numbers\n",
    "x_train=in_tok.texts_to_sequences(str(x_train))\n",
    "y_train=tr_tok.texts_to_sequences(y_train)\n"
   ]
  },
  {
   "cell_type": "markdown",
   "metadata": {
    "id": "qKdy-UcKGLTG"
   },
   "source": [
    "After converting to integer sequence we will also make all the input and target texts to the same length for our model. So we will take the length of input sentences which has the highest frequency and store it in the ‘max_in_length’ variable, and repeat the same for target data also. Now we will pad arrays of 0’s to the texts if it is less than the assigned maximum input length."
   ]
  },
  {
   "cell_type": "markdown",
   "metadata": {
    "id": "JwbT6DuSGNYp"
   },
   "source": [
    "Our encoder input data will be padded ‘x_train’ and decoder input data will be padded ‘y_train’ but we will not include the last word i.e ‘eos’. Decoder target data will be same as decoder input data but it will be one timestep ahead as it will not include the start word i.e. ‘sos’ of our target sentence."
   ]
  },
  {
   "cell_type": "code",
   "execution_count": 11,
   "metadata": {
    "executionInfo": {
     "elapsed": 34033,
     "status": "ok",
     "timestamp": 1694852578206,
     "user": {
      "displayName": "SAI VENKAT B R (RA2111027010058)",
      "userId": "06102157427282578718"
     },
     "user_tz": -330
    },
    "id": "vC3cEe_kGQ6Z"
   },
   "outputs": [],
   "source": [
    "#padding with array if length is less then maximum length\n",
    "en_in_data=pad_sequences(x_train,maxlen=max_in_len,padding=\"post\")\n",
    "dec_data=pad_sequences(y_train,maxlen=max_tr_len,padding=\"post\")\n",
    "\n",
    "#decoder input data will not have the last word ,i.e.,\"eos\" in decoder input data\n",
    "dec_in_data = dec_data[:,:-1]\n",
    "#decoder target data will be one step ahead as it will not include \"sos\"\n",
    "dec_tr_data=dec_data.reshape(len(dec_data),max_tr_len,1)[:,1:]"
   ]
  },
  {
   "cell_type": "markdown",
   "metadata": {
    "id": "I9VGPSJxJYMB"
   },
   "source": [
    "# **Building a model**"
   ]
  },
  {
   "cell_type": "markdown",
   "metadata": {
    "id": "Lua9SXOLJcqC"
   },
   "source": [
    "We are using Stacked LSTM containing 3 layers of LSTM stacked on top of each other. This will make our prediction much better."
   ]
  },
  {
   "cell_type": "markdown",
   "metadata": {
    "id": "di4kFeS0Jkrd"
   },
   "source": [
    "**Encoder**: We will initialize the encoder input tensor using the ‘Input’ object. The expected shape of the batch will be 74 (maximum input length)-dimensions. Then we will create an ‘Embedding Layer’ which will have the total number of input words as the first argument and a shape of 500 which is the latent(hidden) dimension."
   ]
  },
  {
   "cell_type": "code",
   "execution_count": 12,
   "metadata": {
    "executionInfo": {
     "elapsed": 759,
     "status": "ok",
     "timestamp": 1694852578953,
     "user": {
      "displayName": "SAI VENKAT B R (RA2111027010058)",
      "userId": "06102157427282578718"
     },
     "user_tz": -330
    },
    "id": "GY_NUWhNKIJ8"
   },
   "outputs": [],
   "source": [
    "K.clear_session()\n",
    "latent_dim = 500\n",
    "\n",
    "#create input object of total number of of encoder words\n",
    "en_input= Input(shape=(max_in_len))\n",
    "en_embedding= Embedding(num_in_words+1, latent_dim)(en_input)"
   ]
  },
  {
   "cell_type": "markdown",
   "metadata": {
    "id": "jA19tXSZQ9Pl"
   },
   "source": [
    "**LSTM**: Now we will create 3 stacked LSTM layers where the first LSTM layer will have input of encoder and like that create a continuous sequence of LSTM layers."
   ]
  },
  {
   "cell_type": "markdown",
   "metadata": {
    "id": "ulgwuXbUQ_rT"
   },
   "source": [
    "The LSTM layer will capture all the contextual information present in the input sequence. We will return hidden state output and also states i.e. hidden state and cell state after execution of every LSTM layer."
   ]
  },
  {
   "cell_type": "code",
   "execution_count": 13,
   "metadata": {
    "executionInfo": {
     "elapsed": 1634,
     "status": "ok",
     "timestamp": 1694852580574,
     "user": {
      "displayName": "SAI VENKAT B R (RA2111027010058)",
      "userId": "06102157427282578718"
     },
     "user_tz": -330
    },
    "id": "xqihykQZREI6"
   },
   "outputs": [],
   "source": [
    "#creating 3 stacked LSTM layers with the shape of hidden dimension for the text summarizer using deep learning\n",
    "\n",
    "en_lstm1 = LSTM(latent_dim, return_state=True, return_sequences=True)\n",
    "en_output1,state_h1,state_c1=en_lstm1(en_embedding)\n",
    "\n",
    "en_lstm2 = LSTM(latent_dim, return_state=True, return_sequences=True)\n",
    "en_output2,state_h2,state_c2=en_lstm2(en_output1)\n",
    "\n",
    "en_lstm3 = LSTM(latent_dim, return_state=True, return_sequences=True)\n",
    "en_output3,state_h3,state_c3=en_lstm3(en_output2)\n",
    "\n",
    "en_states = [state_h3,state_c3]"
   ]
  },
  {
   "cell_type": "markdown",
   "metadata": {
    "id": "CWNLIxbJdSb6"
   },
   "source": [
    "Decoder: Like Encoder we will initialize the decoder input tensor and then pass it to the only LSTM. Here, the decoder will also have the initial state where we will pass the hidden state and cell state values that we have obtained from the encoder’s LSTM layer"
   ]
  },
  {
   "cell_type": "code",
   "execution_count": 14,
   "metadata": {
    "executionInfo": {
     "elapsed": 394,
     "status": "ok",
     "timestamp": 1694852580961,
     "user": {
      "displayName": "SAI VENKAT B R (RA2111027010058)",
      "userId": "06102157427282578718"
     },
     "user_tz": -330
    },
    "id": "DAD7aEVHdT7t"
   },
   "outputs": [],
   "source": [
    "dec_inputs = Input(shape=(None,))\n",
    "dec_emb_layer = Embedding(num_tr_words+1, latent_dim)\n",
    "dec_embedding = dec_emb_layer(dec_inputs)\n",
    "\n",
    "#initializing decoders LSTM using the output of the encoder\n",
    "dec_lstm = LSTM(latent_dim,return_state=True,return_sequences=True)\n",
    "dec_outputs, *_ = dec_lstm(dec_embedding,initial_state=en_states)"
   ]
  },
  {
   "cell_type": "markdown",
   "metadata": {
    "id": "Fat5h-kwhlfr"
   },
   "source": [
    "**Attention** **Layer**: We will pass the encoder and decoder outputs into the attention layer and then we will concatenate attention layer outputs with the decoder outputs"
   ]
  },
  {
   "cell_type": "code",
   "execution_count": 15,
   "metadata": {
    "executionInfo": {
     "elapsed": 11,
     "status": "ok",
     "timestamp": 1694852580963,
     "user": {
      "displayName": "SAI VENKAT B R (RA2111027010058)",
      "userId": "06102157427282578718"
     },
     "user_tz": -330
    },
    "id": "zmm7utr2hqDk"
   },
   "outputs": [],
   "source": [
    "att = Attention()\n",
    "att_out = att([dec_outputs,en_output3])\n",
    "\n",
    "#concatenate the attention output with the decoder output\n",
    "merge=Concatenate(axis=-1,name='concat_layer1')([dec_outputs,att_out])"
   ]
  },
  {
   "cell_type": "markdown",
   "metadata": {
    "id": "lHstfc_LidyI"
   },
   "source": [
    "Now we will create our Dense Layer that is the output layer for our model. It will have the shape of the total number of target words and a softmax activation function."
   ]
  },
  {
   "cell_type": "code",
   "execution_count": 16,
   "metadata": {
    "executionInfo": {
     "elapsed": 588,
     "status": "ok",
     "timestamp": 1694852581541,
     "user": {
      "displayName": "SAI VENKAT B R (RA2111027010058)",
      "userId": "06102157427282578718"
     },
     "user_tz": -330
    },
    "id": "1b-Mkascie0a"
   },
   "outputs": [],
   "source": [
    "dec_dense = Dense(num_tr_words+1,activation='softmax')\n",
    "dec_outputs = dec_dense(merge)"
   ]
  },
  {
   "cell_type": "markdown",
   "metadata": {
    "id": "-ka3B4Gxn1l5"
   },
   "source": [
    "# **Train the Model**"
   ]
  },
  {
   "cell_type": "markdown",
   "metadata": {
    "id": "yc_cpcAqn721"
   },
   "source": [
    "Finally, we will initialize our Model class with input and output data from the encoder and decoder layers. We can plot the model layers and also get the summary of our model"
   ]
  },
  {
   "cell_type": "code",
   "execution_count": 17,
   "metadata": {
    "colab": {
     "base_uri": "https://localhost:8080/",
     "height": 1000
    },
    "executionInfo": {
     "elapsed": 1110,
     "status": "ok",
     "timestamp": 1694852582594,
     "user": {
      "displayName": "SAI VENKAT B R (RA2111027010058)",
      "userId": "06102157427282578718"
     },
     "user_tz": -330
    },
    "id": "PyuQjzi_n9R_",
    "outputId": "51e477dc-b165-487f-84fc-e4a02df96db7"
   },
   "outputs": [
    {
     "name": "stdout",
     "output_type": "stream",
     "text": [
      "Model: \"model\"\n",
      "__________________________________________________________________________________________________\n",
      " Layer (type)                Output Shape                 Param #   Connected to                  \n",
      "==================================================================================================\n",
      " input_1 (InputLayer)        [(None, 74)]                 0         []                            \n",
      "                                                                                                  \n",
      " embedding (Embedding)       (None, 74, 500)              1609950   ['input_1[0][0]']             \n",
      "                                                          0                                       \n",
      "                                                                                                  \n",
      " lstm (LSTM)                 [(None, 74, 500),            2002000   ['embedding[0][0]']           \n",
      "                              (None, 500),                                                        \n",
      "                              (None, 500)]                                                        \n",
      "                                                                                                  \n",
      " input_2 (InputLayer)        [(None, None)]               0         []                            \n",
      "                                                                                                  \n",
      " lstm_1 (LSTM)               [(None, 74, 500),            2002000   ['lstm[0][0]']                \n",
      "                              (None, 500),                                                        \n",
      "                              (None, 500)]                                                        \n",
      "                                                                                                  \n",
      " embedding_1 (Embedding)     (None, None, 500)            7097000   ['input_2[0][0]']             \n",
      "                                                                                                  \n",
      " lstm_2 (LSTM)               [(None, 74, 500),            2002000   ['lstm_1[0][0]']              \n",
      "                              (None, 500),                                                        \n",
      "                              (None, 500)]                                                        \n",
      "                                                                                                  \n",
      " lstm_3 (LSTM)               [(None, None, 500),          2002000   ['embedding_1[0][0]',         \n",
      "                              (None, 500),                           'lstm_2[0][1]',              \n",
      "                              (None, 500)]                           'lstm_2[0][2]']              \n",
      "                                                                                                  \n",
      " attention (Attention)       (None, None, 500)            0         ['lstm_3[0][0]',              \n",
      "                                                                     'lstm_2[0][0]']              \n",
      "                                                                                                  \n",
      " concat_layer1 (Concatenate  (None, None, 1000)           0         ['lstm_3[0][0]',              \n",
      " )                                                                   'attention[0][0]']           \n",
      "                                                                                                  \n",
      " dense (Dense)               (None, None, 14194)          1420819   ['concat_layer1[0][0]']       \n",
      "                                                          4                                       \n",
      "                                                                                                  \n",
      "==================================================================================================\n",
      "Total params: 45412694 (173.24 MB)\n",
      "Trainable params: 45412694 (173.24 MB)\n",
      "Non-trainable params: 0 (0.00 Byte)\n",
      "__________________________________________________________________________________________________\n"
     ]
    },
    {
     "data": {
      "image/png": "[encoded data removed]",
      "text/plain": [
       "<IPython.core.display.Image object>"
      ]
     },
     "execution_count": 17,
     "metadata": {},
     "output_type": "execute_result"
    }
   ],
   "source": [
    "model = Model([en_input,dec_inputs],dec_outputs)\n",
    "model.summary()\n",
    "plot_model(model,to_file=\"model_plot.png\",show_shapes=True,show_layer_names=True)"
   ]
  },
  {
   "cell_type": "code",
   "execution_count": null,
   "metadata": {
    "id": "TfhZ8Nz7pi7j"
   },
   "outputs": [],
   "source": [
    "model.compile(\n",
    "    optimizer = \"rmsprop\", loss=\"sparse_categorical_crossentropy\", metrics=\"accuracy\"\n",
    ")\n",
    "model.fit(\n",
    "    [en_in_data,dec_in_data],\n",
    "    dec_tr_data,\n",
    "    batch_size=512,\n",
    "    epochs=10,\n",
    "    validation_split=0.1\n",
    ")\n",
    "model.save(\"s2s\")"
   ]
  }
 ],
 "metadata": {
  "colab": {
   "authorship_tag": "ABX9TyMoDprjGwnGUFRIQFdlKEKD",
   "provenance": []
  },
  "kernelspec": {
   "display_name": "Python 3 (ipykernel)",
   "language": "python",
   "name": "python3"
  },
  "language_info": {
   "codemirror_mode": {
    "name": "ipython",
    "version": 3
   },
   "file_extension": ".py",
   "mimetype": "text/x-python",
   "name": "python",
   "nbconvert_exporter": "python",
   "pygments_lexer": "ipython3",
   "version": "3.9.13"
  }
 },
 "nbformat": 4,
 "nbformat_minor": 1
}
